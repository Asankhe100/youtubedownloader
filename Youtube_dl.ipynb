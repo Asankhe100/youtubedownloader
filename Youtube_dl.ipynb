{
  "nbformat": 4,
  "nbformat_minor": 0,
  "metadata": {
    "colab": {
      "name": "Youtube dl",
      "provenance": [],
      "collapsed_sections": [],
      "include_colab_link": true
    },
    "kernelspec": {
      "display_name": "Python 3",
      "name": "python3"
    }
  },
  "cells": [
    {
      "cell_type": "markdown",
      "metadata": {
        "id": "view-in-github",
        "colab_type": "text"
      },
      "source": [
        "<a href=\"https://colab.research.google.com/github/Asankhe100/youtubedownloader/blob/master/Youtube_dl.ipynb\" target=\"_parent\"><img src=\"https://colab.research.google.com/assets/colab-badge.svg\" alt=\"Open In Colab\"/></a>"
      ]
    },
    {
      "cell_type": "code",
      "metadata": {
        "id": "ftRfUHrtBbF_",
        "colab_type": "code",
        "colab": {}
      },
      "source": [
        " from google.colab import drive\n",
        "drive.mount('/content/drive')"
      ],
      "execution_count": null,
      "outputs": []
    },
    {
      "cell_type": "code",
      "metadata": {
        "id": "3pPvGJIT_kiF",
        "colab_type": "code",
        "colab": {}
      },
      "source": [
        "pip install youtube_dl"
      ],
      "execution_count": null,
      "outputs": []
    },
    {
      "cell_type": "code",
      "metadata": {
        "id": "dkdgUhq1BBl8",
        "colab_type": "code",
        "colab": {
          "base_uri": "https://localhost:8080/",
          "height": 443
        },
        "outputId": "0fe8808a-75fe-4082-edba-80787dcb7a67"
      },
      "source": [
        " \n",
        "# importing module \n",
        " \n",
        "import youtube_dl \n",
        " \n",
        "ydl_opts = {} \n",
        " \n",
        "  \n",
        " \n",
        "def dwl_vid(): \n",
        " \n",
        "    with youtube_dl.YoutubeDL(ydl_opts) as ydl: \n",
        " \n",
        "        ydl.download([zxt]) \n",
        " \n",
        "  \n",
        " \n",
        "channel = 1\n",
        " \n",
        "while (channel == int(1)): \n",
        " \n",
        "    link_of_the_video = input(\"Copy & paste the URL of the YouTube video you want to download:- \") \n",
        " \n",
        "    zxt = link_of_the_video.strip() \n",
        " \n",
        "  \n",
        " \n",
        "    dwl_vid() \n",
        " \n",
        "    channel = int(input(\"Enter 1 if you want to download more videos \\nEnter 0 if you are done \"))"
      ],
      "execution_count": null,
      "outputs": [
        {
          "output_type": "stream",
          "text": [
            "Copy & paste the URL of the YouTube video you want to download:- https://youtu.be/Umm1ZQ5ltZw\n",
            "[youtube] Umm1ZQ5ltZw: Downloading webpage\n"
          ],
          "name": "stdout"
        },
        {
          "output_type": "stream",
          "text": [
            "WARNING: Requested formats are incompatible for merge and will be merged into mkv.\n"
          ],
          "name": "stderr"
        },
        {
          "output_type": "stream",
          "text": [
            "[download] Destination: C++ Tutorial For Beginners in Hindi _ C++ Programming _ C++ Full Course _ Great Learning-Umm1ZQ5ltZw.f137.mp4\n",
            "[download] 100% of 137.17MiB in 00:10\n",
            "[download] Destination: C++ Tutorial For Beginners in Hindi _ C++ Programming _ C++ Full Course _ Great Learning-Umm1ZQ5ltZw.f251.webm\n",
            "[download] 100% of 148.92MiB in 00:12\n",
            "[ffmpeg] Merging formats into \"C++ Tutorial For Beginners in Hindi _ C++ Programming _ C++ Full Course _ Great Learning-Umm1ZQ5ltZw.mkv\"\n",
            "Deleting original file C++ Tutorial For Beginners in Hindi _ C++ Programming _ C++ Full Course _ Great Learning-Umm1ZQ5ltZw.f137.mp4 (pass -k to keep)\n",
            "Deleting original file C++ Tutorial For Beginners in Hindi _ C++ Programming _ C++ Full Course _ Great Learning-Umm1ZQ5ltZw.f251.webm (pass -k to keep)\n",
            "Enter 1 if you want to download more videos \n",
            "Enter 0 if you are done 1\n",
            "Copy & paste the URL of the YouTube video you want to download:- https://youtu.be/6qCkhR1Z2qw\n",
            "[youtube] 6qCkhR1Z2qw: Downloading webpage\n",
            "[download] Destination: Tally ERP 9 Full Course _ Tally Complete Course in Hindi-6qCkhR1Z2qw.f247.webm\n",
            "[download] 100% of 896.14MiB in 01:12\n",
            "[download] Destination: Tally ERP 9 Full Course _ Tally Complete Course in Hindi-6qCkhR1Z2qw.f251.webm\n",
            "[download] 100% of 520.37MiB in 00:31\n",
            "[ffmpeg] Merging formats into \"Tally ERP 9 Full Course _ Tally Complete Course in Hindi-6qCkhR1Z2qw.webm\"\n",
            "Deleting original file Tally ERP 9 Full Course _ Tally Complete Course in Hindi-6qCkhR1Z2qw.f247.webm (pass -k to keep)\n",
            "Deleting original file Tally ERP 9 Full Course _ Tally Complete Course in Hindi-6qCkhR1Z2qw.f251.webm (pass -k to keep)\n",
            "Enter 1 if you want to download more videos \n",
            "Enter 0 if you are done 0\n"
          ],
          "name": "stdout"
        }
      ]
    },
    {
      "cell_type": "code",
      "metadata": {
        "id": "8UKGDigvapCu",
        "colab_type": "code",
        "colab": {
          "base_uri": "https://localhost:8080/",
          "height": 54
        },
        "outputId": "d5a91ffa-83a7-48bd-aa1e-bf105d83e339"
      },
      "source": [
        " !sudo cp -r -v \"/content/Tally ERP 9 Full Course _ Tally Complete Course in Hindi-6qCkhR1Z2qw.webm\" \"/content/drive/Shared drives/clone_folder/Complete tutorials\""
      ],
      "execution_count": null,
      "outputs": [
        {
          "output_type": "stream",
          "text": [
            "'/content/Tally ERP 9 Full Course _ Tally Complete Course in Hindi-6qCkhR1Z2qw.webm' -> '/content/drive/Shared drives/clone_folder/Complete tutorials/Tally ERP 9 Full Course _ Tally Complete Course in Hindi-6qCkhR1Z2qw.webm'\n"
          ],
          "name": "stdout"
        }
      ]
    }
  ]
}